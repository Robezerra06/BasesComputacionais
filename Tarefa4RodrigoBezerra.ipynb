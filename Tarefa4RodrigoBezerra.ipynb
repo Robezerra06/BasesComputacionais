{
  "nbformat": 4,
  "nbformat_minor": 0,
  "metadata": {
    "colab": {
      "provenance": [],
      "authorship_tag": "ABX9TyO2AW1i8jh8Q3VsHEBI9qR3",
      "include_colab_link": true
    },
    "kernelspec": {
      "name": "python3",
      "display_name": "Python 3"
    },
    "language_info": {
      "name": "python"
    }
  },
  "cells": [
    {
      "cell_type": "markdown",
      "metadata": {
        "id": "view-in-github",
        "colab_type": "text"
      },
      "source": [
        "<a href=\"https://colab.research.google.com/github/Robezerra06/BasesComputacionais/blob/master/Tarefa4RodrigoBezerra.ipynb\" target=\"_parent\"><img src=\"https://colab.research.google.com/assets/colab-badge.svg\" alt=\"Open In Colab\"/></a>"
      ]
    },
    {
      "cell_type": "markdown",
      "source": [
        "# Rodrigo Bezerra da Silva\n",
        "\n"
      ],
      "metadata": {
        "id": "48xxrnc89Bwr"
      }
    },
    {
      "cell_type": "code",
      "source": [
        "# Este primeiro notebook contém o volume de algumas esferas.\n",
        "\n",
        "import numpy as np\n",
        "np.pi\n",
        "\n",
        "\n"
      ],
      "metadata": {
        "colab": {
          "base_uri": "https://localhost:8080/"
        },
        "id": "aou9IFMXHBYQ",
        "outputId": "3dfc0557-49e1-4100-ee33-33c815b3d3ea"
      },
      "execution_count": 25,
      "outputs": [
        {
          "output_type": "execute_result",
          "data": {
            "text/plain": [
              "3.141592653589793"
            ]
          },
          "metadata": {},
          "execution_count": 25
        }
      ]
    },
    {
      "cell_type": "code",
      "source": [
        "R1 = 0.32 # valor de raio\n",
        "formula_volume_esfera1 = (4/3*np.pi*R1**3)\n",
        "\n",
        "Volume1 = print(formula_volume_esfera1)"
      ],
      "metadata": {
        "id": "tJEtoJZVIkTS",
        "colab": {
          "base_uri": "https://localhost:8080/"
        },
        "outputId": "84aad34d-4067-485e-a445-40396caf5875"
      },
      "execution_count": 26,
      "outputs": [
        {
          "output_type": "stream",
          "name": "stdout",
          "text": [
            "0.13725827743044047\n"
          ]
        }
      ]
    },
    {
      "cell_type": "code",
      "source": [
        "R2 = 1 # valor de raio\n",
        "formula_volume_esfera2 = (4/3*np.pi*R2**3)\n",
        "\n",
        "Volume2 = print(formula_volume_esfera2)"
      ],
      "metadata": {
        "colab": {
          "base_uri": "https://localhost:8080/"
        },
        "id": "dfNN8vO3MaM4",
        "outputId": "f71ffa6a-0add-4c3a-d5a5-6afd727676e7"
      },
      "execution_count": 27,
      "outputs": [
        {
          "output_type": "stream",
          "name": "stdout",
          "text": [
            "4.1887902047863905\n"
          ]
        }
      ]
    },
    {
      "cell_type": "code",
      "source": [
        "R3 = 1.9\n",
        "\n",
        "formula_volume_esfera3 = (4/3*np.pi*R3**3)\n",
        "\n",
        "Volume3 = print(formula_volume_esfera3)"
      ],
      "metadata": {
        "colab": {
          "base_uri": "https://localhost:8080/"
        },
        "id": "ShrD9RRKOyhN",
        "outputId": "619a53b4-d1ab-4719-cc52-144656de88cd"
      },
      "execution_count": null,
      "outputs": [
        {
          "output_type": "stream",
          "name": "stdout",
          "text": [
            "28.730912014629848\n"
          ]
        }
      ]
    },
    {
      "cell_type": "code",
      "source": [],
      "metadata": {
        "id": "ts7YaGX_PHtT"
      },
      "execution_count": null,
      "outputs": []
    },
    {
      "cell_type": "markdown",
      "source": [
        "Nesta estapa será executada a transformação de Celsius para Fahrenheit"
      ],
      "metadata": {
        "id": "9QoXuauNN1dd"
      }
    },
    {
      "cell_type": "code",
      "source": [
        "Tc1 = -10 # Temperatura em Celsius\n",
        "# Formula para conversão  TC1/5 = (TF – 32)/9\n",
        "\n",
        "F_1 = (-10/5*9+32)\n",
        "print(f'temperatura: {F_1} ºF')\n"
      ],
      "metadata": {
        "id": "6yU9WFChOHHt",
        "colab": {
          "base_uri": "https://localhost:8080/"
        },
        "outputId": "4f78f3a9-5503-44d6-d4ab-fc2570b393f2"
      },
      "execution_count": 14,
      "outputs": [
        {
          "output_type": "stream",
          "name": "stdout",
          "text": [
            "temperatura: 14.0 ºF\n"
          ]
        }
      ]
    },
    {
      "cell_type": "code",
      "source": [
        "Tc2 = 30 # Temperatura em Celsius\n",
        "# Formula para conversão  TC2/5 = (TF – 32)/9\n",
        "\n",
        "F_2 = (30/5*9+32)\n",
        "print(f'temperatura: {F_2} ºF')"
      ],
      "metadata": {
        "id": "JUVO_spaOHn0",
        "colab": {
          "base_uri": "https://localhost:8080/"
        },
        "outputId": "975063a3-038a-4252-95bb-8e41c61e9ffe"
      },
      "execution_count": 15,
      "outputs": [
        {
          "output_type": "stream",
          "name": "stdout",
          "text": [
            "temperatura: 86.0 ºF\n"
          ]
        }
      ]
    },
    {
      "cell_type": "code",
      "source": [
        "Tc3 = 5 # Temperatura em Celsius\n",
        "#Formula para conversão  TC3/5 = (TF – 32)/9\n",
        "\n",
        "F_3 =(5/5*9+32)\n",
        "print(f'temperatura: {F_3} ºF')"
      ],
      "metadata": {
        "colab": {
          "base_uri": "https://localhost:8080/"
        },
        "id": "8Hsntuue_TiC",
        "outputId": "abc1292a-abe1-458a-a194-58f6a02ebd11"
      },
      "execution_count": 16,
      "outputs": [
        {
          "output_type": "stream",
          "name": "stdout",
          "text": [
            "temperatura: 41.0 ºF\n"
          ]
        }
      ]
    },
    {
      "cell_type": "markdown",
      "source": [
        "Esse exercício testaremos a lei dos cossenos"
      ],
      "metadata": {
        "id": "gfNXzWVM_6Eh"
      }
    },
    {
      "cell_type": "code",
      "source": [
        "import numpy as np\n",
        "np.cos\n",
        "np.sqrt\n",
        "# Formula Lei dos Cossenos c = a**2+b**2-2*a*b*cos(θ)\n"
      ],
      "metadata": {
        "id": "0piuwfsVAgbv"
      },
      "execution_count": null,
      "outputs": []
    },
    {
      "cell_type": "code",
      "source": [
        "a1 = 1\n",
        "b1 = 2\n",
        "θ = 30\n",
        "\n",
        "c1 = print(1**2+2**2-2*1*2*3**(1/2)/2)\n"
      ],
      "metadata": {
        "colab": {
          "base_uri": "https://localhost:8080/"
        },
        "id": "jbsvXbRFVnvW",
        "outputId": "ccd01195-a879-412f-cf56-47607b105c0f"
      },
      "execution_count": null,
      "outputs": [
        {
          "output_type": "stream",
          "name": "stdout",
          "text": [
            "1.5358983848622456\n"
          ]
        }
      ]
    },
    {
      "cell_type": "code",
      "source": [
        "print( 1.53**(1/2))"
      ],
      "metadata": {
        "colab": {
          "base_uri": "https://localhost:8080/"
        },
        "id": "J0oPWVXXXmQA",
        "outputId": "1dd65a91-9592-4801-de6f-faf5bb03422d"
      },
      "execution_count": null,
      "outputs": [
        {
          "output_type": "stream",
          "name": "stdout",
          "text": [
            "1.2369316876852983\n"
          ]
        }
      ]
    },
    {
      "cell_type": "code",
      "source": [
        "a2 = 3\n",
        "b2 = 1\n",
        "θ = 45\n",
        "\n",
        "c2 = print(3**2+1**2-2*3*1*2**(1/2)/2)"
      ],
      "metadata": {
        "colab": {
          "base_uri": "https://localhost:8080/"
        },
        "id": "_51ExhK1ZGZm",
        "outputId": "a88a6157-9b95-4b10-b34d-0595a7addbbd"
      },
      "execution_count": null,
      "outputs": [
        {
          "output_type": "stream",
          "name": "stdout",
          "text": [
            "5.757359312880714\n"
          ]
        }
      ]
    },
    {
      "cell_type": "code",
      "source": [
        "print(5.75**(1/2))"
      ],
      "metadata": {
        "colab": {
          "base_uri": "https://localhost:8080/"
        },
        "id": "k7JuoW3dZ8fV",
        "outputId": "42309e42-af94-4dec-8c45-6bfd43f6056c"
      },
      "execution_count": null,
      "outputs": [
        {
          "output_type": "stream",
          "name": "stdout",
          "text": [
            "2.3979157616563596\n"
          ]
        }
      ]
    },
    {
      "cell_type": "code",
      "source": [
        "a3 = 10\n",
        "b3 = 11\n",
        "θ = 15\n",
        "\n",
        "c3 = print(10**2+11**2-2*10*11*0.9659)"
      ],
      "metadata": {
        "colab": {
          "base_uri": "https://localhost:8080/"
        },
        "id": "VlmtW_0zaFiv",
        "outputId": "7f3dcc0a-eb5a-4fa2-a173-1d64b0d906a5"
      },
      "execution_count": null,
      "outputs": [
        {
          "output_type": "stream",
          "name": "stdout",
          "text": [
            "8.50200000000001\n"
          ]
        }
      ]
    },
    {
      "cell_type": "code",
      "source": [
        "print(8.50**(1/2))"
      ],
      "metadata": {
        "colab": {
          "base_uri": "https://localhost:8080/"
        },
        "id": "gbn6hnJfa2DL",
        "outputId": "47a430d0-b4f1-4ee3-c6c6-3d2ab2c67752"
      },
      "execution_count": null,
      "outputs": [
        {
          "output_type": "stream",
          "name": "stdout",
          "text": [
            "2.9154759474226504\n"
          ]
        }
      ]
    },
    {
      "cell_type": "markdown",
      "source": [
        "Por último mas não menos importante encontraremos o i-ésimo numero na série de Fibonacci"
      ],
      "metadata": {
        "id": "MRzo-z7VRZVc"
      }
    },
    {
      "cell_type": "code",
      "source": [
        "# Expressão para encontrar i-ésimo numero (((((1+2.23)/2)**i)-((1-2.23)/2)**i)/2.25)"
      ],
      "metadata": {
        "id": "XlzNJxGHXmRB"
      },
      "execution_count": 28,
      "outputs": []
    },
    {
      "cell_type": "code",
      "source": [
        "i1 = 30\n",
        "\n",
        "print(((((1+2.23)/2)**i1)-((1-2.23)/2)**i1)/2.25)"
      ],
      "metadata": {
        "colab": {
          "base_uri": "https://localhost:8080/"
        },
        "id": "mZG5b_WBYBRs",
        "outputId": "3a02015b-a160-4ce5-e5b0-0f25a8b18b1c"
      },
      "execution_count": 29,
      "outputs": [
        {
          "output_type": "stream",
          "name": "stdout",
          "text": [
            "781615.7136876626\n"
          ]
        }
      ]
    },
    {
      "cell_type": "code",
      "source": [
        "i2 = 31\n",
        "\n",
        "print(((((1+2.23)/2)**i2)-((1-2.23)/2)**i2)/2.25)\n"
      ],
      "metadata": {
        "colab": {
          "base_uri": "https://localhost:8080/"
        },
        "id": "8QoksW3KYJEa",
        "outputId": "1309f099-8439-48f1-addb-3a85702c19b1"
      },
      "execution_count": 30,
      "outputs": [
        {
          "output_type": "stream",
          "name": "stdout",
          "text": [
            "1262309.3776060347\n"
          ]
        }
      ]
    },
    {
      "cell_type": "code",
      "source": [
        "i3 = 32\n",
        "\n",
        "print(((((1+2.23)/2)**i3)-((1-2.23)/2)**i3)/2.25)"
      ],
      "metadata": {
        "colab": {
          "base_uri": "https://localhost:8080/"
        },
        "id": "ikoFCJJ7YOZc",
        "outputId": "1e0377e2-f943-405c-e7f4-7857734275eb"
      },
      "execution_count": 31,
      "outputs": [
        {
          "output_type": "stream",
          "name": "stdout",
          "text": [
            "2038629.6448334637\n"
          ]
        }
      ]
    },
    {
      "cell_type": "code",
      "source": [],
      "metadata": {
        "id": "LJMhPbexYSog"
      },
      "execution_count": null,
      "outputs": []
    }
  ]
}